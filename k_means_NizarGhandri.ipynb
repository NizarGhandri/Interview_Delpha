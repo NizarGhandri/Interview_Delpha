{
 "cells": [
  {
   "cell_type": "code",
   "execution_count": 1,
   "metadata": {},
   "outputs": [],
   "source": [
    "import numpy as np"
   ]
  },
  {
   "cell_type": "markdown",
   "metadata": {},
   "source": [
    "### Initialize cluster centers"
   ]
  },
  {
   "cell_type": "code",
   "execution_count": 2,
   "metadata": {},
   "outputs": [],
   "source": [
    "def initialize_clusters(data, k):\n",
    "    \"\"\"initialize the k cluster centers (the means).\n",
    "    input:\n",
    "        data: original data with shape (num_sample, num_feature).\n",
    "        k: predefined number of clusters for the k-means algorithm.\n",
    "    output:\n",
    "        a numpy array with shape (k, num_feature)\n",
    "    \"\"\"\n",
    "    \n",
    "    np.random.seed(1)\n",
    "    indices_centers=np.random.randint(0,data.shape[0],k)\n",
    "    centers=data[indices_centers]\n",
    "    \n",
    "    return centers"
   ]
  },
  {
   "cell_type": "markdown",
   "metadata": {},
   "source": [
    "### Update k-means parameters"
   ]
  },
  {
   "cell_type": "markdown",
   "metadata": {},
   "source": [
    "#### Build distance matrix\n",
    "Build a distance matrix, collecting the distances of the original dataset to the means of the clusters."
   ]
  },
  {
   "cell_type": "code",
   "execution_count": 5,
   "metadata": {},
   "outputs": [],
   "source": [
    "def build_distance_matrix(data, mu):\n",
    "    \"\"\"build a distance matrix.\n",
    "    return\n",
    "        distance matrix:\n",
    "            row of the matrix represents the data point,\n",
    "            column of the matrix represents the k-th cluster.\n",
    "    \"\"\"\n",
    "    distance_matrix=np.zeros( (data.shape[0],mu.shape[0]) )   #(num_samples,k)\n",
    "    \n",
    "    for i in range(data.shape[0]):\n",
    "        for j in range(mu.shape[0]):\n",
    "            \n",
    "            distance_matrix[i][j]= np.linalg.norm(data[i]-mu[j])\n",
    "    \n",
    "    return distance_matrix"
   ]
  },
  {
   "cell_type": "markdown",
   "metadata": {},
   "source": [
    "#### Update k-means parameters"
   ]
  },
  {
   "cell_type": "code",
   "execution_count": 6,
   "metadata": {},
   "outputs": [],
   "source": [
    "def update_kmeans_parameters(data, mu_old):\n",
    "    \"\"\"update the parameter of kmeans\n",
    "    return:\n",
    "        losses: loss of each data point with shape (num_samples, 1)\n",
    "        assignments: assignments vector z with shape (num_samples, 1)\n",
    "        mu: mean vector mu with shape (k, num_features)\n",
    "    \"\"\"\n",
    "    distance_matrix=build_distance_matrix(data, mu_old)\n",
    "    assignments=np.argmin(distance_matrix, axis=1).reshape((-1,1))  #(num_samples,1)\n",
    "    \n",
    "    sums= np.zeros((distance_matrix.shape[1],data.shape[1]))   #shape of (k,num_features)\n",
    "    count= np.zeros((distance_matrix.shape[1],1))                #shape of (k,1)\n",
    "    \n",
    "    for sample,k in zip(data,assignments):\n",
    "        sums[k] +=sample\n",
    "        count[k] +=1\n",
    "    \n",
    "    mu=sums/count     #(k,num_features)/(k,1) we use broadcasting\n",
    "    \n",
    "    losses= np.zeros((data.shape[0],1))\n",
    "    \n",
    "    for i in range(data.shape[0]): \n",
    "        k=assignments[i]\n",
    "        losses[i]= np.linalg.norm(data[i]-mu[k])\n",
    "    \n",
    "    return losses,assignments,mu"
   ]
  },
  {
   "cell_type": "markdown",
   "metadata": {},
   "source": [
    "#### Play with k-means"
   ]
  },
  {
   "cell_type": "code",
   "execution_count": 18,
   "metadata": {
    "scrolled": false
   },
   "outputs": [
    {
     "name": "stdout",
     "output_type": "stream",
     "text": [
      "The current iteration of k-means is: 0,                the average loss is 1.6544017988567583.\n",
      "The current iteration of k-means is: 1,                the average loss is 1.456754976186246.\n",
      "The current iteration of k-means is: 2,                the average loss is 1.4456499736144652.\n",
      "The current iteration of k-means is: 3,                the average loss is 1.4436073940880882.\n",
      "The current iteration of k-means is: 4,                the average loss is 1.4424070405874163.\n",
      "The current iteration of k-means is: 5,                the average loss is 1.440694654410972.\n",
      "The current iteration of k-means is: 6,                the average loss is 1.440694654410972.\n"
     ]
    },
    {
     "data": {
      "text/plain": [
       "array([[-0.09278579, -0.0547166 ,  1.20700459],\n",
       "       [ 3.07403953, -0.00766272,  0.05795075],\n",
       "       [ 0.25139288,  2.4491126 ,  0.98601875]])"
      ]
     },
     "execution_count": 18,
     "metadata": {},
     "output_type": "execute_result"
    }
   ],
   "source": [
    "def kmeans(data, k, max_iters, threshold):\n",
    "    \"\"\"run the k-means algorithm.\"\"\"\n",
    "    # initialize the cluster.\n",
    "    mu_old = initialize_clusters(data, k)\n",
    "    # init some empty lists to store the result.\n",
    "    loss_list = []\n",
    "\n",
    "    # start the kmeans algorithm.\n",
    "    for idx in range(max_iters):\n",
    "        # update z and mu\n",
    "        losses, assignments, mu = update_kmeans_parameters(data, mu_old)\n",
    "        # calculate the average loss over all points\n",
    "        average_loss = np.mean(losses)\n",
    "        loss_list.append(average_loss)\n",
    "        print(\"The current iteration of k-means is: {i}, \\\n",
    "               the average loss is {l}.\".format(i=idx, l=average_loss))\n",
    "        # check converge\n",
    "        if idx > 0 and np.abs(loss_list[-1] - loss_list[-2]) < threshold:\n",
    "            break\n",
    "            \n",
    "        # update k-means information.\n",
    "        mu_old = mu\n",
    "        \n",
    "    return mu      \n",
    "        \n",
    "        \n",
    "cov = np.eye(3)\n",
    "\n",
    "gauss1 = np.random.multivariate_normal(np.array([0, 0, 1]), cov, 50)\n",
    "gauss2 = np.random.multivariate_normal(np.array([0, 2, 1]), cov, 50)\n",
    "gauss3 = np.random.multivariate_normal(np.array([3, 0, 0]), cov, 50)\n",
    "\n",
    "data = np.vstack([gauss1, gauss2, gauss3])\n",
    "\n",
    "\n",
    "\n",
    "# define parameters\n",
    "k = 3\n",
    "max_iters = 10\n",
    "threshold = 1e-5\n",
    "\n",
    "\n",
    "\n",
    "# run kmeans algorithm\n",
    "kmeans(data, k, max_iters, threshold)"
   ]
  },
  {
   "cell_type": "code",
   "execution_count": null,
   "metadata": {},
   "outputs": [],
   "source": []
  },
  {
   "cell_type": "code",
   "execution_count": null,
   "metadata": {},
   "outputs": [],
   "source": []
  }
 ],
 "metadata": {
  "anaconda-cloud": {},
  "kernelspec": {
   "display_name": "Python 3 (ipykernel)",
   "language": "python",
   "name": "python3"
  },
  "language_info": {
   "codemirror_mode": {
    "name": "ipython",
    "version": 3
   },
   "file_extension": ".py",
   "mimetype": "text/x-python",
   "name": "python",
   "nbconvert_exporter": "python",
   "pygments_lexer": "ipython3",
   "version": "3.9.5"
  }
 },
 "nbformat": 4,
 "nbformat_minor": 1
}
